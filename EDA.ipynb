{
  "cells": [
    {
      "cell_type": "code",
      "execution_count": 1,
      "id": "9aa9d578-e932-44dd-984d-28f689298b4f",
      "metadata": {
        "id": "9aa9d578-e932-44dd-984d-28f689298b4f"
      },
      "outputs": [],
      "source": [
        "import pandas as pd"
      ]
    },
    {
      "cell_type": "code",
      "source": [
        "import numpy as np\n"
      ],
      "metadata": {
        "id": "GsJFb8XOcMwG"
      },
      "id": "GsJFb8XOcMwG",
      "execution_count": 23,
      "outputs": []
    },
    {
      "cell_type": "code",
      "execution_count": 2,
      "id": "d02e01b5-64ce-4bb8-8795-9559a6214bb3",
      "metadata": {
        "id": "d02e01b5-64ce-4bb8-8795-9559a6214bb3"
      },
      "outputs": [],
      "source": [
        "amazon = pd.read_csv(\"amazon.csv\")"
      ]
    },
    {
      "cell_type": "code",
      "execution_count": 3,
      "id": "248dac31-e0e4-4d6e-b7bf-6803efd14fd6",
      "metadata": {
        "colab": {
          "base_uri": "https://localhost:8080/",
          "height": 424
        },
        "id": "248dac31-e0e4-4d6e-b7bf-6803efd14fd6",
        "outputId": "f4da55bc-10cf-4d6d-a352-061aba078a50"
      },
      "outputs": [
        {
          "output_type": "execute_result",
          "data": {
            "text/plain": [
              "                                                  Name              Author  \\\n",
              "0                        10-Day Green Smoothie Cleanse            JJ Smith   \n",
              "1                                    11/22/63: A Novel        Stephen King   \n",
              "2              12 Rules for Life: An Antidote to Chaos  Jordan B. Peterson   \n",
              "3                                                 1984       George Orwell   \n",
              "4                               1984 (Signet Classics)       George Orwell   \n",
              "..                                                 ...                 ...   \n",
              "645       Wrecking Ball (Diary of a Wimpy Kid Book 14)         Jeff Kinney   \n",
              "646  You Are a Badass: How to Stop Doubting Your Gr...         Jen Sincero   \n",
              "647  You Are a Badass: How to Stop Doubting Your Gr...         Jen Sincero   \n",
              "648  You Are a Badass: How to Stop Doubting Your Gr...         Jen Sincero   \n",
              "649  You Are a Badass: How to Stop Doubting Your Gr...         Jen Sincero   \n",
              "\n",
              "     User Rating  Reviews   Price  Price_r  Year        Genre  \n",
              "0            4.7    17350   $8.00        8  2016  Non Fiction  \n",
              "1            4.6     2052  $22.00       22  2011      Fiction  \n",
              "2            4.7    18979  $15.00       15  2018  Non Fiction  \n",
              "3            4.7    70425   $7.48        8  2021      Fiction  \n",
              "4            4.7    21424   $6.00        6  2017      Fiction  \n",
              "..           ...      ...     ...      ...   ...          ...  \n",
              "645          4.9     9413   $8.00        8  2019      Fiction  \n",
              "646          4.7    14331   $8.00        8  2016  Non Fiction  \n",
              "647          4.7    14331   $8.00        8  2017  Non Fiction  \n",
              "648          4.7    14331   $8.00        8  2018  Non Fiction  \n",
              "649          4.7    14331   $8.00        8  2019  Non Fiction  \n",
              "\n",
              "[650 rows x 8 columns]"
            ],
            "text/html": [
              "\n",
              "  <div id=\"df-643008a5-313d-42af-b98e-5666fbae375f\">\n",
              "    <div class=\"colab-df-container\">\n",
              "      <div>\n",
              "<style scoped>\n",
              "    .dataframe tbody tr th:only-of-type {\n",
              "        vertical-align: middle;\n",
              "    }\n",
              "\n",
              "    .dataframe tbody tr th {\n",
              "        vertical-align: top;\n",
              "    }\n",
              "\n",
              "    .dataframe thead th {\n",
              "        text-align: right;\n",
              "    }\n",
              "</style>\n",
              "<table border=\"1\" class=\"dataframe\">\n",
              "  <thead>\n",
              "    <tr style=\"text-align: right;\">\n",
              "      <th></th>\n",
              "      <th>Name</th>\n",
              "      <th>Author</th>\n",
              "      <th>User Rating</th>\n",
              "      <th>Reviews</th>\n",
              "      <th>Price</th>\n",
              "      <th>Price_r</th>\n",
              "      <th>Year</th>\n",
              "      <th>Genre</th>\n",
              "    </tr>\n",
              "  </thead>\n",
              "  <tbody>\n",
              "    <tr>\n",
              "      <th>0</th>\n",
              "      <td>10-Day Green Smoothie Cleanse</td>\n",
              "      <td>JJ Smith</td>\n",
              "      <td>4.7</td>\n",
              "      <td>17350</td>\n",
              "      <td>$8.00</td>\n",
              "      <td>8</td>\n",
              "      <td>2016</td>\n",
              "      <td>Non Fiction</td>\n",
              "    </tr>\n",
              "    <tr>\n",
              "      <th>1</th>\n",
              "      <td>11/22/63: A Novel</td>\n",
              "      <td>Stephen King</td>\n",
              "      <td>4.6</td>\n",
              "      <td>2052</td>\n",
              "      <td>$22.00</td>\n",
              "      <td>22</td>\n",
              "      <td>2011</td>\n",
              "      <td>Fiction</td>\n",
              "    </tr>\n",
              "    <tr>\n",
              "      <th>2</th>\n",
              "      <td>12 Rules for Life: An Antidote to Chaos</td>\n",
              "      <td>Jordan B. Peterson</td>\n",
              "      <td>4.7</td>\n",
              "      <td>18979</td>\n",
              "      <td>$15.00</td>\n",
              "      <td>15</td>\n",
              "      <td>2018</td>\n",
              "      <td>Non Fiction</td>\n",
              "    </tr>\n",
              "    <tr>\n",
              "      <th>3</th>\n",
              "      <td>1984</td>\n",
              "      <td>George Orwell</td>\n",
              "      <td>4.7</td>\n",
              "      <td>70425</td>\n",
              "      <td>$7.48</td>\n",
              "      <td>8</td>\n",
              "      <td>2021</td>\n",
              "      <td>Fiction</td>\n",
              "    </tr>\n",
              "    <tr>\n",
              "      <th>4</th>\n",
              "      <td>1984 (Signet Classics)</td>\n",
              "      <td>George Orwell</td>\n",
              "      <td>4.7</td>\n",
              "      <td>21424</td>\n",
              "      <td>$6.00</td>\n",
              "      <td>6</td>\n",
              "      <td>2017</td>\n",
              "      <td>Fiction</td>\n",
              "    </tr>\n",
              "    <tr>\n",
              "      <th>...</th>\n",
              "      <td>...</td>\n",
              "      <td>...</td>\n",
              "      <td>...</td>\n",
              "      <td>...</td>\n",
              "      <td>...</td>\n",
              "      <td>...</td>\n",
              "      <td>...</td>\n",
              "      <td>...</td>\n",
              "    </tr>\n",
              "    <tr>\n",
              "      <th>645</th>\n",
              "      <td>Wrecking Ball (Diary of a Wimpy Kid Book 14)</td>\n",
              "      <td>Jeff Kinney</td>\n",
              "      <td>4.9</td>\n",
              "      <td>9413</td>\n",
              "      <td>$8.00</td>\n",
              "      <td>8</td>\n",
              "      <td>2019</td>\n",
              "      <td>Fiction</td>\n",
              "    </tr>\n",
              "    <tr>\n",
              "      <th>646</th>\n",
              "      <td>You Are a Badass: How to Stop Doubting Your Gr...</td>\n",
              "      <td>Jen Sincero</td>\n",
              "      <td>4.7</td>\n",
              "      <td>14331</td>\n",
              "      <td>$8.00</td>\n",
              "      <td>8</td>\n",
              "      <td>2016</td>\n",
              "      <td>Non Fiction</td>\n",
              "    </tr>\n",
              "    <tr>\n",
              "      <th>647</th>\n",
              "      <td>You Are a Badass: How to Stop Doubting Your Gr...</td>\n",
              "      <td>Jen Sincero</td>\n",
              "      <td>4.7</td>\n",
              "      <td>14331</td>\n",
              "      <td>$8.00</td>\n",
              "      <td>8</td>\n",
              "      <td>2017</td>\n",
              "      <td>Non Fiction</td>\n",
              "    </tr>\n",
              "    <tr>\n",
              "      <th>648</th>\n",
              "      <td>You Are a Badass: How to Stop Doubting Your Gr...</td>\n",
              "      <td>Jen Sincero</td>\n",
              "      <td>4.7</td>\n",
              "      <td>14331</td>\n",
              "      <td>$8.00</td>\n",
              "      <td>8</td>\n",
              "      <td>2018</td>\n",
              "      <td>Non Fiction</td>\n",
              "    </tr>\n",
              "    <tr>\n",
              "      <th>649</th>\n",
              "      <td>You Are a Badass: How to Stop Doubting Your Gr...</td>\n",
              "      <td>Jen Sincero</td>\n",
              "      <td>4.7</td>\n",
              "      <td>14331</td>\n",
              "      <td>$8.00</td>\n",
              "      <td>8</td>\n",
              "      <td>2019</td>\n",
              "      <td>Non Fiction</td>\n",
              "    </tr>\n",
              "  </tbody>\n",
              "</table>\n",
              "<p>650 rows × 8 columns</p>\n",
              "</div>\n",
              "      <button class=\"colab-df-convert\" onclick=\"convertToInteractive('df-643008a5-313d-42af-b98e-5666fbae375f')\"\n",
              "              title=\"Convert this dataframe to an interactive table.\"\n",
              "              style=\"display:none;\">\n",
              "        \n",
              "  <svg xmlns=\"http://www.w3.org/2000/svg\" height=\"24px\"viewBox=\"0 0 24 24\"\n",
              "       width=\"24px\">\n",
              "    <path d=\"M0 0h24v24H0V0z\" fill=\"none\"/>\n",
              "    <path d=\"M18.56 5.44l.94 2.06.94-2.06 2.06-.94-2.06-.94-.94-2.06-.94 2.06-2.06.94zm-11 1L8.5 8.5l.94-2.06 2.06-.94-2.06-.94L8.5 2.5l-.94 2.06-2.06.94zm10 10l.94 2.06.94-2.06 2.06-.94-2.06-.94-.94-2.06-.94 2.06-2.06.94z\"/><path d=\"M17.41 7.96l-1.37-1.37c-.4-.4-.92-.59-1.43-.59-.52 0-1.04.2-1.43.59L10.3 9.45l-7.72 7.72c-.78.78-.78 2.05 0 2.83L4 21.41c.39.39.9.59 1.41.59.51 0 1.02-.2 1.41-.59l7.78-7.78 2.81-2.81c.8-.78.8-2.07 0-2.86zM5.41 20L4 18.59l7.72-7.72 1.47 1.35L5.41 20z\"/>\n",
              "  </svg>\n",
              "      </button>\n",
              "      \n",
              "  <style>\n",
              "    .colab-df-container {\n",
              "      display:flex;\n",
              "      flex-wrap:wrap;\n",
              "      gap: 12px;\n",
              "    }\n",
              "\n",
              "    .colab-df-convert {\n",
              "      background-color: #E8F0FE;\n",
              "      border: none;\n",
              "      border-radius: 50%;\n",
              "      cursor: pointer;\n",
              "      display: none;\n",
              "      fill: #1967D2;\n",
              "      height: 32px;\n",
              "      padding: 0 0 0 0;\n",
              "      width: 32px;\n",
              "    }\n",
              "\n",
              "    .colab-df-convert:hover {\n",
              "      background-color: #E2EBFA;\n",
              "      box-shadow: 0px 1px 2px rgba(60, 64, 67, 0.3), 0px 1px 3px 1px rgba(60, 64, 67, 0.15);\n",
              "      fill: #174EA6;\n",
              "    }\n",
              "\n",
              "    [theme=dark] .colab-df-convert {\n",
              "      background-color: #3B4455;\n",
              "      fill: #D2E3FC;\n",
              "    }\n",
              "\n",
              "    [theme=dark] .colab-df-convert:hover {\n",
              "      background-color: #434B5C;\n",
              "      box-shadow: 0px 1px 3px 1px rgba(0, 0, 0, 0.15);\n",
              "      filter: drop-shadow(0px 1px 2px rgba(0, 0, 0, 0.3));\n",
              "      fill: #FFFFFF;\n",
              "    }\n",
              "  </style>\n",
              "\n",
              "      <script>\n",
              "        const buttonEl =\n",
              "          document.querySelector('#df-643008a5-313d-42af-b98e-5666fbae375f button.colab-df-convert');\n",
              "        buttonEl.style.display =\n",
              "          google.colab.kernel.accessAllowed ? 'block' : 'none';\n",
              "\n",
              "        async function convertToInteractive(key) {\n",
              "          const element = document.querySelector('#df-643008a5-313d-42af-b98e-5666fbae375f');\n",
              "          const dataTable =\n",
              "            await google.colab.kernel.invokeFunction('convertToInteractive',\n",
              "                                                     [key], {});\n",
              "          if (!dataTable) return;\n",
              "\n",
              "          const docLinkHtml = 'Like what you see? Visit the ' +\n",
              "            '<a target=\"_blank\" href=https://colab.research.google.com/notebooks/data_table.ipynb>data table notebook</a>'\n",
              "            + ' to learn more about interactive tables.';\n",
              "          element.innerHTML = '';\n",
              "          dataTable['output_type'] = 'display_data';\n",
              "          await google.colab.output.renderOutput(dataTable, element);\n",
              "          const docLink = document.createElement('div');\n",
              "          docLink.innerHTML = docLinkHtml;\n",
              "          element.appendChild(docLink);\n",
              "        }\n",
              "      </script>\n",
              "    </div>\n",
              "  </div>\n",
              "  "
            ]
          },
          "metadata": {},
          "execution_count": 3
        }
      ],
      "source": [
        "amazon"
      ]
    },
    {
      "cell_type": "markdown",
      "id": "c193c2b3-9287-4515-9c07-a20c12f2ab7a",
      "metadata": {
        "id": "c193c2b3-9287-4515-9c07-a20c12f2ab7a"
      },
      "source": [
        "## Preguntas"
      ]
    },
    {
      "cell_type": "markdown",
      "id": "134b9c88-6ee3-4225-bdd1-c09c93e41d53",
      "metadata": {
        "id": "134b9c88-6ee3-4225-bdd1-c09c93e41d53"
      },
      "source": [
        "Por año cuantos libros ha publicado un autor, recuerde que los años no trabajados deberia de aparecer en cero. considere como primer registro por autor el primer año en que publico y el ultimo el año maximo encontrado.\n",
        "\n",
        "Ejemplo, si Uayeb public en 2009 dos libros, y en 2011 tres. y esas son las dos unicas entradas para este autor. la salida para el deberia de ser:"
      ]
    },
    {
      "cell_type": "code",
      "execution_count": 4,
      "id": "1c5c4e7e-4e28-491f-a8e7-c13f3c39d9c7",
      "metadata": {
        "colab": {
          "base_uri": "https://localhost:8080/",
          "height": 143
        },
        "id": "1c5c4e7e-4e28-491f-a8e7-c13f3c39d9c7",
        "outputId": "3db05414-cb45-4cbc-a985-4471140c8b6d"
      },
      "outputs": [
        {
          "output_type": "execute_result",
          "data": {
            "text/plain": [
              "   Autor  Year  Conteo\n",
              "0  Uayeb  2009       2\n",
              "1  Uayeb  2010       0\n",
              "2  Uayeb  2011       3"
            ],
            "text/html": [
              "\n",
              "  <div id=\"df-6b75afb7-b7bf-420e-b31d-fa0711122404\">\n",
              "    <div class=\"colab-df-container\">\n",
              "      <div>\n",
              "<style scoped>\n",
              "    .dataframe tbody tr th:only-of-type {\n",
              "        vertical-align: middle;\n",
              "    }\n",
              "\n",
              "    .dataframe tbody tr th {\n",
              "        vertical-align: top;\n",
              "    }\n",
              "\n",
              "    .dataframe thead th {\n",
              "        text-align: right;\n",
              "    }\n",
              "</style>\n",
              "<table border=\"1\" class=\"dataframe\">\n",
              "  <thead>\n",
              "    <tr style=\"text-align: right;\">\n",
              "      <th></th>\n",
              "      <th>Autor</th>\n",
              "      <th>Year</th>\n",
              "      <th>Conteo</th>\n",
              "    </tr>\n",
              "  </thead>\n",
              "  <tbody>\n",
              "    <tr>\n",
              "      <th>0</th>\n",
              "      <td>Uayeb</td>\n",
              "      <td>2009</td>\n",
              "      <td>2</td>\n",
              "    </tr>\n",
              "    <tr>\n",
              "      <th>1</th>\n",
              "      <td>Uayeb</td>\n",
              "      <td>2010</td>\n",
              "      <td>0</td>\n",
              "    </tr>\n",
              "    <tr>\n",
              "      <th>2</th>\n",
              "      <td>Uayeb</td>\n",
              "      <td>2011</td>\n",
              "      <td>3</td>\n",
              "    </tr>\n",
              "  </tbody>\n",
              "</table>\n",
              "</div>\n",
              "      <button class=\"colab-df-convert\" onclick=\"convertToInteractive('df-6b75afb7-b7bf-420e-b31d-fa0711122404')\"\n",
              "              title=\"Convert this dataframe to an interactive table.\"\n",
              "              style=\"display:none;\">\n",
              "        \n",
              "  <svg xmlns=\"http://www.w3.org/2000/svg\" height=\"24px\"viewBox=\"0 0 24 24\"\n",
              "       width=\"24px\">\n",
              "    <path d=\"M0 0h24v24H0V0z\" fill=\"none\"/>\n",
              "    <path d=\"M18.56 5.44l.94 2.06.94-2.06 2.06-.94-2.06-.94-.94-2.06-.94 2.06-2.06.94zm-11 1L8.5 8.5l.94-2.06 2.06-.94-2.06-.94L8.5 2.5l-.94 2.06-2.06.94zm10 10l.94 2.06.94-2.06 2.06-.94-2.06-.94-.94-2.06-.94 2.06-2.06.94z\"/><path d=\"M17.41 7.96l-1.37-1.37c-.4-.4-.92-.59-1.43-.59-.52 0-1.04.2-1.43.59L10.3 9.45l-7.72 7.72c-.78.78-.78 2.05 0 2.83L4 21.41c.39.39.9.59 1.41.59.51 0 1.02-.2 1.41-.59l7.78-7.78 2.81-2.81c.8-.78.8-2.07 0-2.86zM5.41 20L4 18.59l7.72-7.72 1.47 1.35L5.41 20z\"/>\n",
              "  </svg>\n",
              "      </button>\n",
              "      \n",
              "  <style>\n",
              "    .colab-df-container {\n",
              "      display:flex;\n",
              "      flex-wrap:wrap;\n",
              "      gap: 12px;\n",
              "    }\n",
              "\n",
              "    .colab-df-convert {\n",
              "      background-color: #E8F0FE;\n",
              "      border: none;\n",
              "      border-radius: 50%;\n",
              "      cursor: pointer;\n",
              "      display: none;\n",
              "      fill: #1967D2;\n",
              "      height: 32px;\n",
              "      padding: 0 0 0 0;\n",
              "      width: 32px;\n",
              "    }\n",
              "\n",
              "    .colab-df-convert:hover {\n",
              "      background-color: #E2EBFA;\n",
              "      box-shadow: 0px 1px 2px rgba(60, 64, 67, 0.3), 0px 1px 3px 1px rgba(60, 64, 67, 0.15);\n",
              "      fill: #174EA6;\n",
              "    }\n",
              "\n",
              "    [theme=dark] .colab-df-convert {\n",
              "      background-color: #3B4455;\n",
              "      fill: #D2E3FC;\n",
              "    }\n",
              "\n",
              "    [theme=dark] .colab-df-convert:hover {\n",
              "      background-color: #434B5C;\n",
              "      box-shadow: 0px 1px 3px 1px rgba(0, 0, 0, 0.15);\n",
              "      filter: drop-shadow(0px 1px 2px rgba(0, 0, 0, 0.3));\n",
              "      fill: #FFFFFF;\n",
              "    }\n",
              "  </style>\n",
              "\n",
              "      <script>\n",
              "        const buttonEl =\n",
              "          document.querySelector('#df-6b75afb7-b7bf-420e-b31d-fa0711122404 button.colab-df-convert');\n",
              "        buttonEl.style.display =\n",
              "          google.colab.kernel.accessAllowed ? 'block' : 'none';\n",
              "\n",
              "        async function convertToInteractive(key) {\n",
              "          const element = document.querySelector('#df-6b75afb7-b7bf-420e-b31d-fa0711122404');\n",
              "          const dataTable =\n",
              "            await google.colab.kernel.invokeFunction('convertToInteractive',\n",
              "                                                     [key], {});\n",
              "          if (!dataTable) return;\n",
              "\n",
              "          const docLinkHtml = 'Like what you see? Visit the ' +\n",
              "            '<a target=\"_blank\" href=https://colab.research.google.com/notebooks/data_table.ipynb>data table notebook</a>'\n",
              "            + ' to learn more about interactive tables.';\n",
              "          element.innerHTML = '';\n",
              "          dataTable['output_type'] = 'display_data';\n",
              "          await google.colab.output.renderOutput(dataTable, element);\n",
              "          const docLink = document.createElement('div');\n",
              "          docLink.innerHTML = docLinkHtml;\n",
              "          element.appendChild(docLink);\n",
              "        }\n",
              "      </script>\n",
              "    </div>\n",
              "  </div>\n",
              "  "
            ]
          },
          "metadata": {},
          "execution_count": 4
        }
      ],
      "source": [
        "pd.DataFrame({ \"Autor\" : [\"Uayeb\",\"Uayeb\",\"Uayeb\"] , \"Year\" : [2009,2010,2011]  , \"Conteo\" : [2,0,3] })"
      ]
    },
    {
      "cell_type": "code",
      "execution_count": 5,
      "id": "f06f52e8-0b6e-4853-9544-61786d5c7b99",
      "metadata": {
        "id": "f06f52e8-0b6e-4853-9544-61786d5c7b99"
      },
      "outputs": [],
      "source": [
        "df_2 = amazon.groupby(['Author','Year']).size()"
      ]
    },
    {
      "cell_type": "code",
      "source": [
        "df_3 = df_2.reset_index(name='conteo')\n"
      ],
      "metadata": {
        "id": "is4XLN5Tal8d"
      },
      "id": "is4XLN5Tal8d",
      "execution_count": 6,
      "outputs": []
    },
    {
      "cell_type": "code",
      "source": [
        "df_3\n"
      ],
      "metadata": {
        "id": "voCKV8g1amUd"
      },
      "id": "voCKV8g1amUd",
      "execution_count": null,
      "outputs": []
    },
    {
      "cell_type": "markdown",
      "id": "ef702157-4d96-48b5-b9eb-f43136f8fc91",
      "metadata": {
        "id": "ef702157-4d96-48b5-b9eb-f43136f8fc91"
      },
      "source": [
        "Que Autores han trabado en un año en mas de un libro\n",
        "\n",
        "Ejemplo de salida esperada:"
      ]
    },
    {
      "cell_type": "code",
      "execution_count": null,
      "id": "8329a903-1ec3-4e68-8ff8-0720e2567732",
      "metadata": {
        "id": "8329a903-1ec3-4e68-8ff8-0720e2567732",
        "outputId": "73e19a90-7618-4198-abcc-209ca6f7b42d"
      },
      "outputs": [
        {
          "data": {
            "text/html": [
              "<div>\n",
              "<style scoped>\n",
              "    .dataframe tbody tr th:only-of-type {\n",
              "        vertical-align: middle;\n",
              "    }\n",
              "\n",
              "    .dataframe tbody tr th {\n",
              "        vertical-align: top;\n",
              "    }\n",
              "\n",
              "    .dataframe thead th {\n",
              "        text-align: right;\n",
              "    }\n",
              "</style>\n",
              "<table border=\"1\" class=\"dataframe\">\n",
              "  <thead>\n",
              "    <tr style=\"text-align: right;\">\n",
              "      <th></th>\n",
              "      <th>Autor</th>\n",
              "      <th>Year</th>\n",
              "      <th>Conteo de Titulos</th>\n",
              "    </tr>\n",
              "  </thead>\n",
              "  <tbody>\n",
              "    <tr>\n",
              "      <th>0</th>\n",
              "      <td>Uayeb</td>\n",
              "      <td>2010</td>\n",
              "      <td>2</td>\n",
              "    </tr>\n",
              "    <tr>\n",
              "      <th>1</th>\n",
              "      <td>Imix</td>\n",
              "      <td>2010</td>\n",
              "      <td>3</td>\n",
              "    </tr>\n",
              "  </tbody>\n",
              "</table>\n",
              "</div>"
            ],
            "text/plain": [
              "   Autor  Year  Conteo de Titulos\n",
              "0  Uayeb  2010                  2\n",
              "1   Imix  2010                  3"
            ]
          },
          "execution_count": 23,
          "metadata": {},
          "output_type": "execute_result"
        }
      ],
      "source": [
        "pd.DataFrame({\n",
        "    \n",
        "    \"Autor\" : ['Uayeb','Imix']\n",
        "    , \"Year\" : [2010, 2010]\n",
        "    , \"Conteo de Titulos\" : [2 , 3]\n",
        "    \n",
        "})"
      ]
    },
    {
      "cell_type": "code",
      "source": [
        "df_2 = amazon.groupby(['Author','Year']).size()\n"
      ],
      "metadata": {
        "id": "VcNKaFhGaw4e"
      },
      "id": "VcNKaFhGaw4e",
      "execution_count": 8,
      "outputs": []
    },
    {
      "cell_type": "code",
      "source": [
        "df_3 = pd.DataFrame(df_2)\n"
      ],
      "metadata": {
        "id": "dOGYmiRDawgN"
      },
      "id": "dOGYmiRDawgN",
      "execution_count": 9,
      "outputs": []
    },
    {
      "cell_type": "code",
      "execution_count": 10,
      "id": "da05e917-8f5d-4cba-a82c-be7e76c1eabb",
      "metadata": {
        "id": "da05e917-8f5d-4cba-a82c-be7e76c1eabb"
      },
      "outputs": [],
      "source": [
        "df_3['conteo de titulo'] = df_2\n"
      ]
    },
    {
      "cell_type": "code",
      "source": [
        "df_4 = df_3[df_3['conteo de titulo']>1]\n"
      ],
      "metadata": {
        "id": "MsC__YOMa_YX"
      },
      "id": "MsC__YOMa_YX",
      "execution_count": 11,
      "outputs": []
    },
    {
      "cell_type": "code",
      "source": [
        "df_4\n"
      ],
      "metadata": {
        "id": "tMFFJZ5KbBJu"
      },
      "id": "tMFFJZ5KbBJu",
      "execution_count": null,
      "outputs": []
    },
    {
      "cell_type": "markdown",
      "id": "7ad1e0d1-79a2-4cf1-b771-a5d817c4a91a",
      "metadata": {
        "id": "7ad1e0d1-79a2-4cf1-b771-a5d817c4a91a"
      },
      "source": [
        "Que genero por año ha obtenido el mejor rating en promedio. (solo deberia de obtener un registro por año)\n",
        "\n",
        "- ejemplo de la salida esperada:"
      ]
    },
    {
      "cell_type": "code",
      "execution_count": null,
      "id": "65ed338c-a353-4dd8-8268-7cdb9feccd18",
      "metadata": {
        "id": "65ed338c-a353-4dd8-8268-7cdb9feccd18",
        "outputId": "98be497c-264b-41b3-ff2e-8589440f5637"
      },
      "outputs": [
        {
          "data": {
            "text/html": [
              "<div>\n",
              "<style scoped>\n",
              "    .dataframe tbody tr th:only-of-type {\n",
              "        vertical-align: middle;\n",
              "    }\n",
              "\n",
              "    .dataframe tbody tr th {\n",
              "        vertical-align: top;\n",
              "    }\n",
              "\n",
              "    .dataframe thead th {\n",
              "        text-align: right;\n",
              "    }\n",
              "</style>\n",
              "<table border=\"1\" class=\"dataframe\">\n",
              "  <thead>\n",
              "    <tr style=\"text-align: right;\">\n",
              "      <th></th>\n",
              "      <th>Year</th>\n",
              "      <th>Genre</th>\n",
              "      <th>Mean User Rating</th>\n",
              "    </tr>\n",
              "  </thead>\n",
              "  <tbody>\n",
              "    <tr>\n",
              "      <th>0</th>\n",
              "      <td>2009</td>\n",
              "      <td>Fiction</td>\n",
              "      <td>4.59</td>\n",
              "    </tr>\n",
              "    <tr>\n",
              "      <th>1</th>\n",
              "      <td>2010</td>\n",
              "      <td>Fiction</td>\n",
              "      <td>4.61</td>\n",
              "    </tr>\n",
              "  </tbody>\n",
              "</table>\n",
              "</div>"
            ],
            "text/plain": [
              "   Year    Genre  Mean User Rating\n",
              "0  2009  Fiction              4.59\n",
              "1  2010  Fiction              4.61"
            ]
          },
          "execution_count": 22,
          "metadata": {},
          "output_type": "execute_result"
        }
      ],
      "source": [
        "pd.DataFrame({\n",
        "    \"Year\" : [2009,2010]\n",
        "    , \"Genre\" : [ \"Fiction\" , \"Fiction\" ]\n",
        "    , \"Mean User Rating\": [ 4.59 , 4.61 ]\n",
        "})"
      ]
    },
    {
      "cell_type": "code",
      "execution_count": 15,
      "id": "cc863f34-ab0e-48dc-a4c2-34ed2d8d6a67",
      "metadata": {
        "id": "cc863f34-ab0e-48dc-a4c2-34ed2d8d6a67"
      },
      "outputs": [],
      "source": [
        "genero_ficcion = amazon[amazon['Genre']=='Fiction']\n"
      ]
    },
    {
      "cell_type": "code",
      "source": [
        "filtro_columnas = genero_ficcion[['Year', 'Genre', 'User Rating']]\n"
      ],
      "metadata": {
        "id": "wJ3NiptrbdAu"
      },
      "id": "wJ3NiptrbdAu",
      "execution_count": 22,
      "outputs": []
    },
    {
      "cell_type": "code",
      "source": [
        "agrupacion_year = filtro_columnas.groupby(['Year', 'Genre']).mean()\n"
      ],
      "metadata": {
        "id": "ana9NKAFbeqV"
      },
      "id": "ana9NKAFbeqV",
      "execution_count": 17,
      "outputs": []
    },
    {
      "cell_type": "code",
      "source": [
        "agrupacion_year = agrupacion_year.reset_index()\n"
      ],
      "metadata": {
        "id": "blV1cT7DbgJj"
      },
      "id": "blV1cT7DbgJj",
      "execution_count": 18,
      "outputs": []
    },
    {
      "cell_type": "code",
      "source": [
        "df_2 = pd.DataFrame(agrupacion_year)\n"
      ],
      "metadata": {
        "id": "67EcUYCxbkXm"
      },
      "id": "67EcUYCxbkXm",
      "execution_count": 19,
      "outputs": []
    },
    {
      "cell_type": "code",
      "source": [
        "df_2['Mean User Rating'] = agrupacion_year['User Rating']\n"
      ],
      "metadata": {
        "id": "oLnvxIhZbnE-"
      },
      "id": "oLnvxIhZbnE-",
      "execution_count": 20,
      "outputs": []
    },
    {
      "cell_type": "code",
      "source": [
        "df_2[['Year', 'Genre', 'Mean User Rating']]\n"
      ],
      "metadata": {
        "colab": {
          "base_uri": "https://localhost:8080/",
          "height": 457
        },
        "id": "GEdmneZfboae",
        "outputId": "fc6e961a-340a-41b2-bd18-51a3edb065c1"
      },
      "id": "GEdmneZfboae",
      "execution_count": 24,
      "outputs": [
        {
          "output_type": "execute_result",
          "data": {
            "text/plain": [
              "    Year    Genre  Mean User Rating\n",
              "0   2009  Fiction          4.591667\n",
              "1   2010  Fiction          4.615000\n",
              "2   2011  Fiction          4.619048\n",
              "3   2012  Fiction          4.495238\n",
              "4   2013  Fiction          4.545833\n",
              "5   2014  Fiction          4.631034\n",
              "6   2015  Fiction          4.652941\n",
              "7   2016  Fiction          4.715789\n",
              "8   2017  Fiction          4.737500\n",
              "9   2018  Fiction          4.738095\n",
              "10  2019  Fiction          4.820000\n",
              "11  2020  Fiction          4.713043\n",
              "12  2021  Fiction          4.716667"
            ],
            "text/html": [
              "\n",
              "  <div id=\"df-7f4e0793-b399-4ad7-b817-8752a7b986a0\">\n",
              "    <div class=\"colab-df-container\">\n",
              "      <div>\n",
              "<style scoped>\n",
              "    .dataframe tbody tr th:only-of-type {\n",
              "        vertical-align: middle;\n",
              "    }\n",
              "\n",
              "    .dataframe tbody tr th {\n",
              "        vertical-align: top;\n",
              "    }\n",
              "\n",
              "    .dataframe thead th {\n",
              "        text-align: right;\n",
              "    }\n",
              "</style>\n",
              "<table border=\"1\" class=\"dataframe\">\n",
              "  <thead>\n",
              "    <tr style=\"text-align: right;\">\n",
              "      <th></th>\n",
              "      <th>Year</th>\n",
              "      <th>Genre</th>\n",
              "      <th>Mean User Rating</th>\n",
              "    </tr>\n",
              "  </thead>\n",
              "  <tbody>\n",
              "    <tr>\n",
              "      <th>0</th>\n",
              "      <td>2009</td>\n",
              "      <td>Fiction</td>\n",
              "      <td>4.591667</td>\n",
              "    </tr>\n",
              "    <tr>\n",
              "      <th>1</th>\n",
              "      <td>2010</td>\n",
              "      <td>Fiction</td>\n",
              "      <td>4.615000</td>\n",
              "    </tr>\n",
              "    <tr>\n",
              "      <th>2</th>\n",
              "      <td>2011</td>\n",
              "      <td>Fiction</td>\n",
              "      <td>4.619048</td>\n",
              "    </tr>\n",
              "    <tr>\n",
              "      <th>3</th>\n",
              "      <td>2012</td>\n",
              "      <td>Fiction</td>\n",
              "      <td>4.495238</td>\n",
              "    </tr>\n",
              "    <tr>\n",
              "      <th>4</th>\n",
              "      <td>2013</td>\n",
              "      <td>Fiction</td>\n",
              "      <td>4.545833</td>\n",
              "    </tr>\n",
              "    <tr>\n",
              "      <th>5</th>\n",
              "      <td>2014</td>\n",
              "      <td>Fiction</td>\n",
              "      <td>4.631034</td>\n",
              "    </tr>\n",
              "    <tr>\n",
              "      <th>6</th>\n",
              "      <td>2015</td>\n",
              "      <td>Fiction</td>\n",
              "      <td>4.652941</td>\n",
              "    </tr>\n",
              "    <tr>\n",
              "      <th>7</th>\n",
              "      <td>2016</td>\n",
              "      <td>Fiction</td>\n",
              "      <td>4.715789</td>\n",
              "    </tr>\n",
              "    <tr>\n",
              "      <th>8</th>\n",
              "      <td>2017</td>\n",
              "      <td>Fiction</td>\n",
              "      <td>4.737500</td>\n",
              "    </tr>\n",
              "    <tr>\n",
              "      <th>9</th>\n",
              "      <td>2018</td>\n",
              "      <td>Fiction</td>\n",
              "      <td>4.738095</td>\n",
              "    </tr>\n",
              "    <tr>\n",
              "      <th>10</th>\n",
              "      <td>2019</td>\n",
              "      <td>Fiction</td>\n",
              "      <td>4.820000</td>\n",
              "    </tr>\n",
              "    <tr>\n",
              "      <th>11</th>\n",
              "      <td>2020</td>\n",
              "      <td>Fiction</td>\n",
              "      <td>4.713043</td>\n",
              "    </tr>\n",
              "    <tr>\n",
              "      <th>12</th>\n",
              "      <td>2021</td>\n",
              "      <td>Fiction</td>\n",
              "      <td>4.716667</td>\n",
              "    </tr>\n",
              "  </tbody>\n",
              "</table>\n",
              "</div>\n",
              "      <button class=\"colab-df-convert\" onclick=\"convertToInteractive('df-7f4e0793-b399-4ad7-b817-8752a7b986a0')\"\n",
              "              title=\"Convert this dataframe to an interactive table.\"\n",
              "              style=\"display:none;\">\n",
              "        \n",
              "  <svg xmlns=\"http://www.w3.org/2000/svg\" height=\"24px\"viewBox=\"0 0 24 24\"\n",
              "       width=\"24px\">\n",
              "    <path d=\"M0 0h24v24H0V0z\" fill=\"none\"/>\n",
              "    <path d=\"M18.56 5.44l.94 2.06.94-2.06 2.06-.94-2.06-.94-.94-2.06-.94 2.06-2.06.94zm-11 1L8.5 8.5l.94-2.06 2.06-.94-2.06-.94L8.5 2.5l-.94 2.06-2.06.94zm10 10l.94 2.06.94-2.06 2.06-.94-2.06-.94-.94-2.06-.94 2.06-2.06.94z\"/><path d=\"M17.41 7.96l-1.37-1.37c-.4-.4-.92-.59-1.43-.59-.52 0-1.04.2-1.43.59L10.3 9.45l-7.72 7.72c-.78.78-.78 2.05 0 2.83L4 21.41c.39.39.9.59 1.41.59.51 0 1.02-.2 1.41-.59l7.78-7.78 2.81-2.81c.8-.78.8-2.07 0-2.86zM5.41 20L4 18.59l7.72-7.72 1.47 1.35L5.41 20z\"/>\n",
              "  </svg>\n",
              "      </button>\n",
              "      \n",
              "  <style>\n",
              "    .colab-df-container {\n",
              "      display:flex;\n",
              "      flex-wrap:wrap;\n",
              "      gap: 12px;\n",
              "    }\n",
              "\n",
              "    .colab-df-convert {\n",
              "      background-color: #E8F0FE;\n",
              "      border: none;\n",
              "      border-radius: 50%;\n",
              "      cursor: pointer;\n",
              "      display: none;\n",
              "      fill: #1967D2;\n",
              "      height: 32px;\n",
              "      padding: 0 0 0 0;\n",
              "      width: 32px;\n",
              "    }\n",
              "\n",
              "    .colab-df-convert:hover {\n",
              "      background-color: #E2EBFA;\n",
              "      box-shadow: 0px 1px 2px rgba(60, 64, 67, 0.3), 0px 1px 3px 1px rgba(60, 64, 67, 0.15);\n",
              "      fill: #174EA6;\n",
              "    }\n",
              "\n",
              "    [theme=dark] .colab-df-convert {\n",
              "      background-color: #3B4455;\n",
              "      fill: #D2E3FC;\n",
              "    }\n",
              "\n",
              "    [theme=dark] .colab-df-convert:hover {\n",
              "      background-color: #434B5C;\n",
              "      box-shadow: 0px 1px 3px 1px rgba(0, 0, 0, 0.15);\n",
              "      filter: drop-shadow(0px 1px 2px rgba(0, 0, 0, 0.3));\n",
              "      fill: #FFFFFF;\n",
              "    }\n",
              "  </style>\n",
              "\n",
              "      <script>\n",
              "        const buttonEl =\n",
              "          document.querySelector('#df-7f4e0793-b399-4ad7-b817-8752a7b986a0 button.colab-df-convert');\n",
              "        buttonEl.style.display =\n",
              "          google.colab.kernel.accessAllowed ? 'block' : 'none';\n",
              "\n",
              "        async function convertToInteractive(key) {\n",
              "          const element = document.querySelector('#df-7f4e0793-b399-4ad7-b817-8752a7b986a0');\n",
              "          const dataTable =\n",
              "            await google.colab.kernel.invokeFunction('convertToInteractive',\n",
              "                                                     [key], {});\n",
              "          if (!dataTable) return;\n",
              "\n",
              "          const docLinkHtml = 'Like what you see? Visit the ' +\n",
              "            '<a target=\"_blank\" href=https://colab.research.google.com/notebooks/data_table.ipynb>data table notebook</a>'\n",
              "            + ' to learn more about interactive tables.';\n",
              "          element.innerHTML = '';\n",
              "          dataTable['output_type'] = 'display_data';\n",
              "          await google.colab.output.renderOutput(dataTable, element);\n",
              "          const docLink = document.createElement('div');\n",
              "          docLink.innerHTML = docLinkHtml;\n",
              "          element.appendChild(docLink);\n",
              "        }\n",
              "      </script>\n",
              "    </div>\n",
              "  </div>\n",
              "  "
            ]
          },
          "metadata": {},
          "execution_count": 24
        }
      ]
    },
    {
      "cell_type": "markdown",
      "id": "60b48070-f861-4864-87a8-8085ead92350",
      "metadata": {
        "id": "60b48070-f861-4864-87a8-8085ead92350"
      },
      "source": [
        "Cuales son los autores que por lo menos dos años consecutivos hayan tenido en promedio ratings que decrecen \n",
        "\n",
        "Ejemplo\n",
        "\n",
        "- Si Uayeb caballero, en 2010 saco dos libros, y el rating de esos dos libros es de 3.1, ese mismo autor en 2011 en su unico libro publicado ese año su promedio fue de 2.9 y en 2012 sus tres libros publicados en promedio su rating es de 2.8. Podemos ver que son dos años que este usuario ha ido decreciendo \n",
        "\n",
        "No importa que haya publicado en años salteados, ejemplo, 2010 si, 2011 no, 2012 no, 2013 si, 2014 si. para este caso el analisis comienza en 2010, 2013 y 2014\n",
        "\n",
        "Ejemplo de salida esperada:"
      ]
    },
    {
      "cell_type": "code",
      "execution_count": null,
      "id": "c39c8a7d-e450-4d08-a7a6-654575251d73",
      "metadata": {
        "id": "c39c8a7d-e450-4d08-a7a6-654575251d73",
        "outputId": "1687dabe-942e-42fc-8ad1-88eab91c3db0"
      },
      "outputs": [
        {
          "data": {
            "text/html": [
              "<div>\n",
              "<style scoped>\n",
              "    .dataframe tbody tr th:only-of-type {\n",
              "        vertical-align: middle;\n",
              "    }\n",
              "\n",
              "    .dataframe tbody tr th {\n",
              "        vertical-align: top;\n",
              "    }\n",
              "\n",
              "    .dataframe thead th {\n",
              "        text-align: right;\n",
              "    }\n",
              "</style>\n",
              "<table border=\"1\" class=\"dataframe\">\n",
              "  <thead>\n",
              "    <tr style=\"text-align: right;\">\n",
              "      <th></th>\n",
              "      <th>autores</th>\n",
              "    </tr>\n",
              "  </thead>\n",
              "  <tbody>\n",
              "    <tr>\n",
              "      <th>0</th>\n",
              "      <td>Uayeb</td>\n",
              "    </tr>\n",
              "    <tr>\n",
              "      <th>1</th>\n",
              "      <td>Imix</td>\n",
              "    </tr>\n",
              "  </tbody>\n",
              "</table>\n",
              "</div>"
            ],
            "text/plain": [
              "  autores\n",
              "0   Uayeb\n",
              "1    Imix"
            ]
          },
          "execution_count": 24,
          "metadata": {},
          "output_type": "execute_result"
        }
      ],
      "source": [
        "pd.DataFrame({ \"autores\" : ['Uayeb','Imix'] })"
      ]
    },
    {
      "cell_type": "code",
      "execution_count": null,
      "id": "ed226f21-c3c0-4326-86ba-ddd5e6039b10",
      "metadata": {
        "id": "ed226f21-c3c0-4326-86ba-ddd5e6039b10"
      },
      "outputs": [],
      "source": []
    },
    {
      "cell_type": "markdown",
      "id": "7d105f63-e0f9-4f35-a454-71fffa333715",
      "metadata": {
        "id": "7d105f63-e0f9-4f35-a454-71fffa333715"
      },
      "source": [
        "Cuales son los libros que por año se encuentran arriba del percentil 70. (Sin importar genero)\n",
        "\n",
        "Ejemplo de salida esperada"
      ]
    },
    {
      "cell_type": "code",
      "execution_count": null,
      "id": "5d0c2166-673b-4552-956e-4abef9fac1dd",
      "metadata": {
        "id": "5d0c2166-673b-4552-956e-4abef9fac1dd",
        "outputId": "7845192d-173f-41ec-94ec-ce1a253fe9e7"
      },
      "outputs": [
        {
          "data": {
            "text/html": [
              "<div>\n",
              "<style scoped>\n",
              "    .dataframe tbody tr th:only-of-type {\n",
              "        vertical-align: middle;\n",
              "    }\n",
              "\n",
              "    .dataframe tbody tr th {\n",
              "        vertical-align: top;\n",
              "    }\n",
              "\n",
              "    .dataframe thead th {\n",
              "        text-align: right;\n",
              "    }\n",
              "</style>\n",
              "<table border=\"1\" class=\"dataframe\">\n",
              "  <thead>\n",
              "    <tr style=\"text-align: right;\">\n",
              "      <th></th>\n",
              "      <th>Year</th>\n",
              "      <th>Titulos</th>\n",
              "      <th>Autor</th>\n",
              "      <th>Rating</th>\n",
              "      <th>Rating .70</th>\n",
              "    </tr>\n",
              "  </thead>\n",
              "  <tbody>\n",
              "    <tr>\n",
              "      <th>0</th>\n",
              "      <td>2010</td>\n",
              "      <td>Libro A</td>\n",
              "      <td>Autor 1</td>\n",
              "      <td>4.1</td>\n",
              "      <td>3.8</td>\n",
              "    </tr>\n",
              "    <tr>\n",
              "      <th>1</th>\n",
              "      <td>2010</td>\n",
              "      <td>Libro B</td>\n",
              "      <td>Autor 2</td>\n",
              "      <td>4.0</td>\n",
              "      <td>3.8</td>\n",
              "    </tr>\n",
              "    <tr>\n",
              "      <th>2</th>\n",
              "      <td>2011</td>\n",
              "      <td>Libro Z</td>\n",
              "      <td>Autor 1</td>\n",
              "      <td>4.2</td>\n",
              "      <td>3.7</td>\n",
              "    </tr>\n",
              "    <tr>\n",
              "      <th>3</th>\n",
              "      <td>2011</td>\n",
              "      <td>Libro Y</td>\n",
              "      <td>Autor 3</td>\n",
              "      <td>4.3</td>\n",
              "      <td>3.7</td>\n",
              "    </tr>\n",
              "  </tbody>\n",
              "</table>\n",
              "</div>"
            ],
            "text/plain": [
              "   Year  Titulos    Autor  Rating  Rating .70\n",
              "0  2010  Libro A  Autor 1     4.1         3.8\n",
              "1  2010  Libro B  Autor 2     4.0         3.8\n",
              "2  2011  Libro Z  Autor 1     4.2         3.7\n",
              "3  2011  Libro Y  Autor 3     4.3         3.7"
            ]
          },
          "execution_count": 26,
          "metadata": {},
          "output_type": "execute_result"
        }
      ],
      "source": [
        "pd.DataFrame({\n",
        "    \"Year\": [2010,2010,2011,2011]\n",
        "    , \"Titulos\": [\"Libro A\",\"Libro B\",\"Libro Z\",\"Libro Y\"]\n",
        "    , \"Autor\": [\"Autor 1\",\"Autor 2\",\"Autor 1\",\"Autor 3\"]\n",
        "    , \"Rating\": [4.1, 4.0,4.2,4.3]\n",
        "    , \"Rating .70\": [3.8,3.8,3.7,3.7]\n",
        "})"
      ]
    },
    {
      "cell_type": "markdown",
      "id": "46f24c8f-a555-4658-934f-48a972a2e326",
      "metadata": {
        "id": "46f24c8f-a555-4658-934f-48a972a2e326"
      },
      "source": [
        "Este ejemplo es para que se haga una idea de la estructura de salida esperada, claramente por año dependiendo de las publicaciones pueden haber varios libros arriba del percentil 70\n"
      ]
    },
    {
      "cell_type": "code",
      "execution_count": 25,
      "id": "0313d0a8-2c1e-4272-9b9c-afad1422bbb2",
      "metadata": {
        "id": "0313d0a8-2c1e-4272-9b9c-afad1422bbb2"
      },
      "outputs": [],
      "source": [
        "percentil = np.percentile(amazon['User Rating'],0.7)\n"
      ]
    },
    {
      "cell_type": "code",
      "source": [
        "filtro= amazon['User Rating']>percentil\n"
      ],
      "metadata": {
        "id": "vdjVJWKHcx7v"
      },
      "id": "vdjVJWKHcx7v",
      "execution_count": 26,
      "outputs": []
    },
    {
      "cell_type": "code",
      "source": [
        "df_2 = amazon[filtro][['Year','Name', 'Author', 'User Rating']]\n"
      ],
      "metadata": {
        "id": "rVBNRaooc1RW"
      },
      "id": "rVBNRaooc1RW",
      "execution_count": 27,
      "outputs": []
    },
    {
      "cell_type": "code",
      "source": [
        "df_2['Rating .70'] = np.percentile(amazon['User Rating'],0.7)\n"
      ],
      "metadata": {
        "id": "CnmgA3_wc46W"
      },
      "id": "CnmgA3_wc46W",
      "execution_count": 28,
      "outputs": []
    },
    {
      "cell_type": "code",
      "source": [
        "df_2\n"
      ],
      "metadata": {
        "colab": {
          "base_uri": "https://localhost:8080/",
          "height": 424
        },
        "id": "k5tHKNI0c6Z8",
        "outputId": "8bc7c1ad-e0dd-4e32-af8e-30a01f7aca0f"
      },
      "id": "k5tHKNI0c6Z8",
      "execution_count": 29,
      "outputs": [
        {
          "output_type": "execute_result",
          "data": {
            "text/plain": [
              "     Year                                               Name  \\\n",
              "0    2016                      10-Day Green Smoothie Cleanse   \n",
              "1    2011                                  11/22/63: A Novel   \n",
              "2    2018            12 Rules for Life: An Antidote to Chaos   \n",
              "3    2021                                               1984   \n",
              "4    2017                             1984 (Signet Classics)   \n",
              "..    ...                                                ...   \n",
              "645  2019       Wrecking Ball (Diary of a Wimpy Kid Book 14)   \n",
              "646  2016  You Are a Badass: How to Stop Doubting Your Gr...   \n",
              "647  2017  You Are a Badass: How to Stop Doubting Your Gr...   \n",
              "648  2018  You Are a Badass: How to Stop Doubting Your Gr...   \n",
              "649  2019  You Are a Badass: How to Stop Doubting Your Gr...   \n",
              "\n",
              "                 Author  User Rating  Rating .70  \n",
              "0              JJ Smith          4.7         3.9  \n",
              "1          Stephen King          4.6         3.9  \n",
              "2    Jordan B. Peterson          4.7         3.9  \n",
              "3         George Orwell          4.7         3.9  \n",
              "4         George Orwell          4.7         3.9  \n",
              "..                  ...          ...         ...  \n",
              "645         Jeff Kinney          4.9         3.9  \n",
              "646         Jen Sincero          4.7         3.9  \n",
              "647         Jen Sincero          4.7         3.9  \n",
              "648         Jen Sincero          4.7         3.9  \n",
              "649         Jen Sincero          4.7         3.9  \n",
              "\n",
              "[643 rows x 5 columns]"
            ],
            "text/html": [
              "\n",
              "  <div id=\"df-a0d6d175-3c48-4d40-ab9f-d79ef85ef884\">\n",
              "    <div class=\"colab-df-container\">\n",
              "      <div>\n",
              "<style scoped>\n",
              "    .dataframe tbody tr th:only-of-type {\n",
              "        vertical-align: middle;\n",
              "    }\n",
              "\n",
              "    .dataframe tbody tr th {\n",
              "        vertical-align: top;\n",
              "    }\n",
              "\n",
              "    .dataframe thead th {\n",
              "        text-align: right;\n",
              "    }\n",
              "</style>\n",
              "<table border=\"1\" class=\"dataframe\">\n",
              "  <thead>\n",
              "    <tr style=\"text-align: right;\">\n",
              "      <th></th>\n",
              "      <th>Year</th>\n",
              "      <th>Name</th>\n",
              "      <th>Author</th>\n",
              "      <th>User Rating</th>\n",
              "      <th>Rating .70</th>\n",
              "    </tr>\n",
              "  </thead>\n",
              "  <tbody>\n",
              "    <tr>\n",
              "      <th>0</th>\n",
              "      <td>2016</td>\n",
              "      <td>10-Day Green Smoothie Cleanse</td>\n",
              "      <td>JJ Smith</td>\n",
              "      <td>4.7</td>\n",
              "      <td>3.9</td>\n",
              "    </tr>\n",
              "    <tr>\n",
              "      <th>1</th>\n",
              "      <td>2011</td>\n",
              "      <td>11/22/63: A Novel</td>\n",
              "      <td>Stephen King</td>\n",
              "      <td>4.6</td>\n",
              "      <td>3.9</td>\n",
              "    </tr>\n",
              "    <tr>\n",
              "      <th>2</th>\n",
              "      <td>2018</td>\n",
              "      <td>12 Rules for Life: An Antidote to Chaos</td>\n",
              "      <td>Jordan B. Peterson</td>\n",
              "      <td>4.7</td>\n",
              "      <td>3.9</td>\n",
              "    </tr>\n",
              "    <tr>\n",
              "      <th>3</th>\n",
              "      <td>2021</td>\n",
              "      <td>1984</td>\n",
              "      <td>George Orwell</td>\n",
              "      <td>4.7</td>\n",
              "      <td>3.9</td>\n",
              "    </tr>\n",
              "    <tr>\n",
              "      <th>4</th>\n",
              "      <td>2017</td>\n",
              "      <td>1984 (Signet Classics)</td>\n",
              "      <td>George Orwell</td>\n",
              "      <td>4.7</td>\n",
              "      <td>3.9</td>\n",
              "    </tr>\n",
              "    <tr>\n",
              "      <th>...</th>\n",
              "      <td>...</td>\n",
              "      <td>...</td>\n",
              "      <td>...</td>\n",
              "      <td>...</td>\n",
              "      <td>...</td>\n",
              "    </tr>\n",
              "    <tr>\n",
              "      <th>645</th>\n",
              "      <td>2019</td>\n",
              "      <td>Wrecking Ball (Diary of a Wimpy Kid Book 14)</td>\n",
              "      <td>Jeff Kinney</td>\n",
              "      <td>4.9</td>\n",
              "      <td>3.9</td>\n",
              "    </tr>\n",
              "    <tr>\n",
              "      <th>646</th>\n",
              "      <td>2016</td>\n",
              "      <td>You Are a Badass: How to Stop Doubting Your Gr...</td>\n",
              "      <td>Jen Sincero</td>\n",
              "      <td>4.7</td>\n",
              "      <td>3.9</td>\n",
              "    </tr>\n",
              "    <tr>\n",
              "      <th>647</th>\n",
              "      <td>2017</td>\n",
              "      <td>You Are a Badass: How to Stop Doubting Your Gr...</td>\n",
              "      <td>Jen Sincero</td>\n",
              "      <td>4.7</td>\n",
              "      <td>3.9</td>\n",
              "    </tr>\n",
              "    <tr>\n",
              "      <th>648</th>\n",
              "      <td>2018</td>\n",
              "      <td>You Are a Badass: How to Stop Doubting Your Gr...</td>\n",
              "      <td>Jen Sincero</td>\n",
              "      <td>4.7</td>\n",
              "      <td>3.9</td>\n",
              "    </tr>\n",
              "    <tr>\n",
              "      <th>649</th>\n",
              "      <td>2019</td>\n",
              "      <td>You Are a Badass: How to Stop Doubting Your Gr...</td>\n",
              "      <td>Jen Sincero</td>\n",
              "      <td>4.7</td>\n",
              "      <td>3.9</td>\n",
              "    </tr>\n",
              "  </tbody>\n",
              "</table>\n",
              "<p>643 rows × 5 columns</p>\n",
              "</div>\n",
              "      <button class=\"colab-df-convert\" onclick=\"convertToInteractive('df-a0d6d175-3c48-4d40-ab9f-d79ef85ef884')\"\n",
              "              title=\"Convert this dataframe to an interactive table.\"\n",
              "              style=\"display:none;\">\n",
              "        \n",
              "  <svg xmlns=\"http://www.w3.org/2000/svg\" height=\"24px\"viewBox=\"0 0 24 24\"\n",
              "       width=\"24px\">\n",
              "    <path d=\"M0 0h24v24H0V0z\" fill=\"none\"/>\n",
              "    <path d=\"M18.56 5.44l.94 2.06.94-2.06 2.06-.94-2.06-.94-.94-2.06-.94 2.06-2.06.94zm-11 1L8.5 8.5l.94-2.06 2.06-.94-2.06-.94L8.5 2.5l-.94 2.06-2.06.94zm10 10l.94 2.06.94-2.06 2.06-.94-2.06-.94-.94-2.06-.94 2.06-2.06.94z\"/><path d=\"M17.41 7.96l-1.37-1.37c-.4-.4-.92-.59-1.43-.59-.52 0-1.04.2-1.43.59L10.3 9.45l-7.72 7.72c-.78.78-.78 2.05 0 2.83L4 21.41c.39.39.9.59 1.41.59.51 0 1.02-.2 1.41-.59l7.78-7.78 2.81-2.81c.8-.78.8-2.07 0-2.86zM5.41 20L4 18.59l7.72-7.72 1.47 1.35L5.41 20z\"/>\n",
              "  </svg>\n",
              "      </button>\n",
              "      \n",
              "  <style>\n",
              "    .colab-df-container {\n",
              "      display:flex;\n",
              "      flex-wrap:wrap;\n",
              "      gap: 12px;\n",
              "    }\n",
              "\n",
              "    .colab-df-convert {\n",
              "      background-color: #E8F0FE;\n",
              "      border: none;\n",
              "      border-radius: 50%;\n",
              "      cursor: pointer;\n",
              "      display: none;\n",
              "      fill: #1967D2;\n",
              "      height: 32px;\n",
              "      padding: 0 0 0 0;\n",
              "      width: 32px;\n",
              "    }\n",
              "\n",
              "    .colab-df-convert:hover {\n",
              "      background-color: #E2EBFA;\n",
              "      box-shadow: 0px 1px 2px rgba(60, 64, 67, 0.3), 0px 1px 3px 1px rgba(60, 64, 67, 0.15);\n",
              "      fill: #174EA6;\n",
              "    }\n",
              "\n",
              "    [theme=dark] .colab-df-convert {\n",
              "      background-color: #3B4455;\n",
              "      fill: #D2E3FC;\n",
              "    }\n",
              "\n",
              "    [theme=dark] .colab-df-convert:hover {\n",
              "      background-color: #434B5C;\n",
              "      box-shadow: 0px 1px 3px 1px rgba(0, 0, 0, 0.15);\n",
              "      filter: drop-shadow(0px 1px 2px rgba(0, 0, 0, 0.3));\n",
              "      fill: #FFFFFF;\n",
              "    }\n",
              "  </style>\n",
              "\n",
              "      <script>\n",
              "        const buttonEl =\n",
              "          document.querySelector('#df-a0d6d175-3c48-4d40-ab9f-d79ef85ef884 button.colab-df-convert');\n",
              "        buttonEl.style.display =\n",
              "          google.colab.kernel.accessAllowed ? 'block' : 'none';\n",
              "\n",
              "        async function convertToInteractive(key) {\n",
              "          const element = document.querySelector('#df-a0d6d175-3c48-4d40-ab9f-d79ef85ef884');\n",
              "          const dataTable =\n",
              "            await google.colab.kernel.invokeFunction('convertToInteractive',\n",
              "                                                     [key], {});\n",
              "          if (!dataTable) return;\n",
              "\n",
              "          const docLinkHtml = 'Like what you see? Visit the ' +\n",
              "            '<a target=\"_blank\" href=https://colab.research.google.com/notebooks/data_table.ipynb>data table notebook</a>'\n",
              "            + ' to learn more about interactive tables.';\n",
              "          element.innerHTML = '';\n",
              "          dataTable['output_type'] = 'display_data';\n",
              "          await google.colab.output.renderOutput(dataTable, element);\n",
              "          const docLink = document.createElement('div');\n",
              "          docLink.innerHTML = docLinkHtml;\n",
              "          element.appendChild(docLink);\n",
              "        }\n",
              "      </script>\n",
              "    </div>\n",
              "  </div>\n",
              "  "
            ]
          },
          "metadata": {},
          "execution_count": 29
        }
      ]
    }
  ],
  "metadata": {
    "kernelspec": {
      "display_name": "Python 3",
      "language": "python",
      "name": "python3"
    },
    "language_info": {
      "codemirror_mode": {
        "name": "ipython",
        "version": 3
      },
      "file_extension": ".py",
      "mimetype": "text/x-python",
      "name": "python",
      "nbconvert_exporter": "python",
      "pygments_lexer": "ipython3",
      "version": "3.8.8"
    },
    "colab": {
      "provenance": [],
      "collapsed_sections": []
    }
  },
  "nbformat": 4,
  "nbformat_minor": 5
}